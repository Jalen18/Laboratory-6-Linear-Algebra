{
  "nbformat": 4,
  "nbformat_minor": 0,
  "metadata": {
    "colab": {
      "name": "Lacambra_Lab6.ipynb",
      "private_outputs": true,
      "provenance": [],
      "authorship_tag": "ABX9TyN6jJMH4iQHB+mUq4CggisU",
      "include_colab_link": true
    },
    "kernelspec": {
      "name": "python3",
      "display_name": "Python 3"
    },
    "language_info": {
      "name": "python"
    }
  },
  "cells": [
    {
      "cell_type": "markdown",
      "metadata": {
        "id": "view-in-github",
        "colab_type": "text"
      },
      "source": [
        "<a href=\"https://colab.research.google.com/github/Jalen18/Laboratory-6-Linear-Algebra/blob/main/Lacambra_Lab6.ipynb\" target=\"_parent\"><img src=\"https://colab.research.google.com/assets/colab-badge.svg\" alt=\"Open In Colab\"/></a>"
      ]
    },
    {
      "cell_type": "markdown",
      "metadata": {
        "id": "lsBZDYLklhNG"
      },
      "source": [
        "### TASK 1"
      ]
    },
    {
      "cell_type": "markdown",
      "metadata": {
        "id": "LU_jtoZ3j4oI"
      },
      "source": [
        "$$\\begin{equation*}\n",
        "J = \n",
        "\\begin{bmatrix}\n",
        "1 & 1 & 2 \\\\\n",
        "2 & 1 & 4 \\\\\n",
        "4 & 1 & 8\n",
        "\\end{bmatrix}\n",
        "\\end{equation*}$$\n",
        "\n",
        "$$\\begin{equation*}\n",
        "A = \n",
        "\\begin{bmatrix}\n",
        "1 & 0 & 0 \\\\\n",
        "2 & 0 & 0 \\\\\n",
        "3 & 0 & 0\n",
        "\\end{bmatrix}\n",
        "\\end{equation*}$$\n",
        "\n",
        "$$\\begin{equation*}\n",
        "L = \n",
        "\\begin{bmatrix}\n",
        "1 & 3 & 5 \\\\\n",
        "2 & 4 & 6 \\\\\n",
        "7 & 8 & 9\n",
        "\\end{bmatrix}\n",
        "\\end{equation*}$$\n",
        "\n",
        "$$\\begin{equation*}\n",
        "E = \n",
        "\\begin{bmatrix}\n",
        "2 & 2 & 2 \\\\\n",
        "2 & 2 & 2 \\\\\n",
        "2 & 2 & 2\n",
        "\\end{bmatrix}\n",
        "\\end{equation*}$$\n",
        "\n",
        "$$\\begin{equation*}\n",
        "N = \n",
        "\\begin{bmatrix}  \n",
        "\\end{bmatrix}\n",
        "\\end{equation*}$$"
      ]
    },
    {
      "cell_type": "code",
      "metadata": {
        "id": "rWqgdrRtulyz"
      },
      "source": [
        "import numpy as np\n",
        "import matplotlib.pyplot as plt\n",
        "import scipy.linalg as la\n",
        "%matplotlib inline"
      ],
      "execution_count": null,
      "outputs": []
    },
    {
      "cell_type": "code",
      "metadata": {
        "id": "vsTXD1UolmPB"
      },
      "source": [
        "J = np.array([[1,1,2], [2,1,4], [4,1,8]])\n",
        "A = np.array([[1,0,0], [2,0,0], [3,0,0]])\n",
        "L = np.array([[1,3,5], [2,4,6], [7,8,9]])\n",
        "E = np.array([[2,2,2], [2,2,2], [2,2,2]])\n",
        "N = np.array([])\n",
        "\n",
        "D = np.eye(3)\n",
        "\n",
        "def describe_mat(matrix):\n",
        "  if matrix.size > 0:\n",
        "    zeroes = (matrix==0) .all()\n",
        "    ones = (matrix==1).all()\n",
        "    Id = np.all(np.equal(matrix,J))\n",
        "    is_square = True if matrix.shape[0] == matrix.shape[1] else False\n",
        "    print(f'Matrix: \\n{matrix}\\n\\nShape:\\t{matrix.shape}\\nRank:\\t{matrix.ndim}\\nIs Square: {is_square}'\n",
        "        f'\\nIs zero identity: {zeroes}\\nIs ones identity: {ones}\\nIs Identity Matrix: {Id}')\n",
        "    \n",
        "  else: \n",
        "    print(\"Null identity\") \n",
        "\n",
        "describe_mat(J)\n",
        "print(\"**************************\")\n",
        "describe_mat(A)\n",
        "print(\"**************************\")\n",
        "describe_mat(L)\n",
        "print(\"**************************\")\n",
        "describe_mat(E)\n",
        "print(\"**************************\")\n",
        "describe_mat(N)\n",
        "print(\"**************************\")"
      ],
      "execution_count": null,
      "outputs": []
    },
    {
      "cell_type": "markdown",
      "metadata": {
        "id": "2j9mmN_Zx1da"
      },
      "source": [
        "### Task 2"
      ]
    },
    {
      "cell_type": "markdown",
      "metadata": {
        "id": "ZER7FCDox5Hp"
      },
      "source": [
        "$$\\begin{equation*}\n",
        "R = \n",
        "\\begin{bmatrix}\n",
        "1 & 1 & 2 \\\\\n",
        "2 & 1 & 4 \\\\\n",
        "4 & 1 & 8\n",
        "\\end{bmatrix}\n",
        "\\end{equation*}$$\n",
        "\n",
        "$$\n",
        "H = 1\n",
        "$$\n",
        "\n",
        "$$\\begin{equation*}\n",
        "E = \n",
        "\\begin{bmatrix}\n",
        "1 & 2 & 2 \\\\\n",
        "2 & 2 & 4 \\\\\n",
        "4 & 2 & 8\n",
        "\\end{bmatrix}\n",
        "\\end{equation*}$$\n",
        "\n",
        "$$\n",
        "Y = 2\n",
        "$$\n",
        "\n",
        "$$\\begin{equation*}\n",
        "A = \n",
        "\\begin{bmatrix}\n",
        "1 & 3 & 2 \\\\\n",
        "2 & 3 & 4 \\\\\n",
        "4 & 3 & 8\n",
        "\\end{bmatrix}\n",
        "\\end{equation*}$$"
      ]
    },
    {
      "cell_type": "code",
      "metadata": {
        "id": "B0U2HBm8x4Wz"
      },
      "source": [
        "R = np.array([[1,1,2],\n",
        "              [2,1,4],\n",
        "              [4,1,8]])\n",
        "H = 1\n",
        "E = np.array([[1,2,2],\n",
        "              [2,2,4],\n",
        "              [4,2,8]])\n",
        "Y = 2\n",
        "A = np.array([[1,3,2],\n",
        "              [2,3,4],\n",
        "              [4,3,8]])\n",
        "\n",
        "def mat_operations(matrix1, matrix2):\n",
        "    if np.isscalar(matrix1) == True and np.isscalar(matrix2) == True:\n",
        "        print(matrix1, '--> scalar')\n",
        "        print(matrix2, '--> scalar')\n",
        "        print('********************************************************')\n",
        "\n",
        "    elif np.isscalar(matrix2) == True:\n",
        "        print(matrix2, 'Is a scalar')\n",
        "        if matrix1.size > 0:\n",
        "            is_square = True if matrix1.shape[0] == matrix1.shape[1] else False\n",
        "            print(f'Matrix:\\n{matrix1}\\n\\nShape:\\t{matrix1.shape}\\nRank:\\t{matrix1.ndim}\\nIs Square: {is_square}')\n",
        "        else:\n",
        "            print('Matrix is Null')\n",
        "        print('********************************************************')\n",
        "\n",
        "    elif np.isscalar(matrix1) == True:\n",
        "        print(matrix1, 'Is a scalar')\n",
        "        if matrix2.size > 0:\n",
        "            is_square = True if matrix2.shape[0] == matrix2.shape[1] else False\n",
        "            print(f'Matrix:\\n{matrix2}\\n\\nShape:\\t{matrix2.shape}\\nRank:\\t{matrix2.ndim}\\nIs Square: {is_square}')\n",
        "        else:\n",
        "            print('Matrix is Null')\n",
        "        print('********************************************************')\n",
        "        \n",
        "    elif np.isscalar(matrix1) == False and np.isscalar(matrix2) == False:\n",
        "        if matrix1.size > 0 and matrix2.size > 0:\n",
        "            is_square = True if matrix1.shape[0] == matrix1.shape[1] else False\n",
        "            print(f'Matrix:\\n{matrix1}\\n\\nShape:\\t{matrix1.shape}\\nRank:\\t{matrix1.ndim}\\nIs Square: {is_square}')\n",
        "            print('********************************************************')\n",
        "            is_square = True if matrix2.shape[0] == matrix2.shape[1] else False\n",
        "            print(f'Matrix:\\n{matrix2}\\n\\nShape:\\t{matrix2.shape}\\nRank:\\t{matrix2.ndim}\\nIs Square: {is_square}')\n",
        "            print('********************************************************')\n",
        "        else:\n",
        "            print('Matrix is Null')\n",
        "\n",
        "    if np.isscalar(matrix2) == True:\n",
        "        sum = matrix1 + matrix2\n",
        "        difference = matrix1 - matrix2\n",
        "        product = matrix1 * matrix2\n",
        "        quotient = matrix1 // matrix2\n",
        "        print(sum)\n",
        "        print(difference)\n",
        "        print(product)\n",
        "        print(quotient)\n",
        "\n",
        "    elif np.isscalar(matrix1) == True:\n",
        "        sum = matrix1 + matrix2\n",
        "        difference = matrix1 - matrix2\n",
        "        product = matrix1 * matrix2\n",
        "        quotient = matrix1 // matrix2\n",
        "        print(sum)\n",
        "        print(difference)\n",
        "        print(product)\n",
        "        print(quotient)\n",
        "\n",
        "    elif matrix1.shape == matrix2.shape:\n",
        "        sum = matrix1 + matrix2\n",
        "        difference = matrix1 - matrix2\n",
        "        product = matrix1 * matrix2\n",
        "        quotient = matrix1 // matrix2\n",
        "        print(sum)\n",
        "        print(difference)\n",
        "        print(product)\n",
        "        print(quotient) \n",
        "\n",
        "    else:\n",
        "        print(\"Matrix is not equal in shape...\")\n",
        "\n",
        "mat_operations(R,E)\n",
        "print('********************************************************')\n",
        "mat_operations(E,A)\n",
        "print('********************************************************')\n",
        "mat_operations(E,Y)\n",
        "print('********************************************************')\n",
        "mat_operations(H,Y)\n",
        "\n",
        "\n"
      ],
      "execution_count": null,
      "outputs": []
    },
    {
      "cell_type": "code",
      "metadata": {
        "id": "L2S3dpNo5Rlx"
      },
      "source": [
        ""
      ],
      "execution_count": null,
      "outputs": []
    }
  ]
}